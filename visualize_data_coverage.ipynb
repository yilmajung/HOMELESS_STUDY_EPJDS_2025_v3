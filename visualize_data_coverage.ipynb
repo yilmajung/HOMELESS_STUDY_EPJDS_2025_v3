{
 "cells": [
  {
   "cell_type": "code",
   "execution_count": 1,
   "id": "bbedb77f",
   "metadata": {},
   "outputs": [],
   "source": [
    "import pandas as pd\n",
    "import numpy as np\n",
    "import matplotlib.pyplot as plt\n",
    "import glob\n",
    "import os\n",
    "import geopandas as gpd\n",
    "import geoplot.crs as gcrs\n",
    "import geoplot as gplt\n",
    "import re\n",
    "from geopy.distance import great_circle\n",
    "from shapely.geometry import Polygon, LineString, Point, MultiPolygon\n",
    "from shapely import wkt\n",
    "import folium"
   ]
  },
  {
   "cell_type": "code",
   "execution_count": 2,
   "id": "412097bd",
   "metadata": {},
   "outputs": [
    {
     "name": "stderr",
     "output_type": "stream",
     "text": [
      "/var/folders/y6/z9h695vx2w3gbjh7z32h4j9m0000gn/T/ipykernel_1756/947270512.py:2: DtypeWarning: Columns (6,8) have mixed types. Specify dtype option on import or set low_memory=False.\n",
      "  df = pd.read_csv('data/df_combined_cleaned_20250902.csv')\n"
     ]
    }
   ],
   "source": [
    "# Load the cleaned datasets for analysis and visualization\n",
    "df = pd.read_csv('data/df_combined_cleaned_20250902.csv')\n",
    "df2 = pd.read_csv('data/df_combined2_cleaned_20250902.csv')"
   ]
  },
  {
   "cell_type": "code",
   "execution_count": 5,
   "id": "982f7a77",
   "metadata": {},
   "outputs": [
    {
     "data": {
      "text/plain": [
       "(360135, 12)"
      ]
     },
     "execution_count": 5,
     "metadata": {},
     "output_type": "execute_result"
    }
   ],
   "source": [
    "# Convert data type of 'source' column to string\n",
    "df['source'] = df['source'].astype(str)\n",
    "df[df['source'] == '311'].shape"
   ]
  },
  {
   "cell_type": "code",
   "execution_count": 8,
   "id": "dfbbc2f8",
   "metadata": {},
   "outputs": [],
   "source": [
    "# Convert df to geo data frame\n",
    "df = gpd.GeoDataFrame(df, geometry=gpd.points_from_xy(df.longitude, df.latitude), crs=4326)\n",
    "df2 = gpd.GeoDataFrame(df2, geometry=gpd.points_from_xy(df2.longitude, df2.latitude), crs=4326)"
   ]
  },
  {
   "cell_type": "code",
   "execution_count": 75,
   "id": "04f0347f",
   "metadata": {},
   "outputs": [
    {
     "name": "stderr",
     "output_type": "stream",
     "text": [
      "100%|██████████| 302524/302524 [02:23<00:00, 2112.44it/s] \n",
      "100%|██████████| 23264/23264 [00:02<00:00, 8660.93it/s]\n"
     ]
    }
   ],
   "source": [
    "from tqdm import tqdm\n",
    "\n",
    "# Create a 311 map centered at San Francisco\n",
    "m2 = folium.Map(location=[37.7749, -122.4194], zoom_start=12, tiles='CartoDB positron')\n",
    "\n",
    "# Add points to the map\n",
    "for _, row in tqdm(df2[(df2['source']=='311') & (df2['ground_truth']==1)].iterrows(), \n",
    "total=df2[(df2['source']=='311') & (df2['ground_truth']==1)].shape[0]):\n",
    "    folium.CircleMarker(\n",
    "        location = [row['latitude'], row['longitude']],\n",
    "        radius = .3,\n",
    "        color = \"#e14b31\",\n",
    "        fill = True,\n",
    "        opacity = 0.3,\n",
    "    ).add_to(m2)\n",
    "\n",
    "for _, row in tqdm(df2[(df2['source']=='311') & (df2['ground_truth']==0)].iterrows(), \n",
    "total=df2[(df2['source']=='311') & (df2['ground_truth']==0)].shape[0]):\n",
    "    folium.CircleMarker(\n",
    "        location = [row['latitude'], row['longitude']],\n",
    "        radius = .3,\n",
    "        color = \"#1984c5\",\n",
    "        fill = True,\n",
    "        opacity = 0.3,\n",
    "    ).add_to(m2)\n",
    "\n",
    "# Add a legend to the map for the different feature types\n",
    "legend_html = '''\n",
    "<div style=\"position: fixed;\n",
    "     bottom: 50px; left: 50px; width: 170px; height: 90px;\n",
    "     border:2px solid grey; z-index:9999; font-size:14px;\n",
    "     background-color:white; padding: 10px;\">\n",
    "     <b></b><br>\n",
    "     <i style=\"background:#e14b31; width:10px; height:10px; display:inline-block;\"></i> True Positive<br>\n",
    "     <i style=\"background:#1984c5; width:10px; height:10px; display:inline-block;\"></i> True Negative<br>\n",
    "</div>\n",
    "'''\n",
    "# Add the legend HTML to the map\n",
    "m2.get_root().html.add_child(folium.Element(legend_html))\n",
    "\n",
    "# Save the maps to HTML files\n",
    "m2.save('311_ground_truth_map_20250906.html')"
   ]
  },
  {
   "cell_type": "code",
   "execution_count": 103,
   "id": "015a1c5c",
   "metadata": {},
   "outputs": [
    {
     "name": "stderr",
     "output_type": "stream",
     "text": [
      "100%|██████████| 377800/377800 [02:53<00:00, 2179.89it/s]\n",
      "100%|██████████| 208/208 [00:00<00:00, 961.98it/s]\n"
     ]
    }
   ],
   "source": [
    "from tqdm import tqdm\n",
    "\n",
    "# Create a Mapillary map centered at San Francisco\n",
    "m3 = folium.Map(location=[37.7749, -122.4194], zoom_start=12, tiles='CartoDB positron')\n",
    "\n",
    "# Add points to the map\n",
    "for _, row in tqdm(df2[(df2['source']=='Mapillary') & (df2['ground_truth']==0)].iterrows(), \n",
    "total=df2[(df2['source']=='Mapillary') & (df2['ground_truth']==0)].shape[0]):\n",
    "    folium.CircleMarker(\n",
    "        location = [row['latitude'], row['longitude']],\n",
    "        radius = .3,\n",
    "        color = \"#1984c5\",\n",
    "        fill = True,\n",
    "        opacity = 0.3,\n",
    "    ).add_to(m3)\n",
    "\n",
    "for _, row in tqdm(df2[(df2['source']=='Mapillary') & (df2['ground_truth']==1)].iterrows(), \n",
    "total=df2[(df2['source']=='Mapillary') & (df2['ground_truth']==1)].shape[0]):\n",
    "    folium.CircleMarker(\n",
    "        location = [row['latitude'], row['longitude']],\n",
    "        radius = 1.5,\n",
    "        color = \"#e14b31\",\n",
    "        fill = True,\n",
    "        opacity = 1,\n",
    "    ).add_to(m3)\n",
    "\n",
    "# Add a legend to the map for the different feature types\n",
    "legend_html = '''\n",
    "<div style=\"position: fixed;\n",
    "     bottom: 50px; left: 50px; width: 170px; height: 85px;\n",
    "     border:2px solid grey; z-index:9999; font-size:14px;\n",
    "     background-color:white; padding: 10px;\">\n",
    "     <b></b><br>\n",
    "     <i style=\"background:#e14b31; width:10px; height:10px; display:inline-block;\"></i> True Positive<br>\n",
    "     <i style=\"background:#1984c5; width:10px; height:10px; display:inline-block;\"></i> True Negative<br>\n",
    "</div>\n",
    "'''\n",
    "# Add the legend HTML to the map\n",
    "m3.get_root().html.add_child(folium.Element(legend_html))\n",
    "\n",
    "# Save the Mapillary ground truth map to an HTML file\n",
    "m3.save('mapillary_ground_truth_map_20250906.html')"
   ]
  },
  {
   "cell_type": "code",
   "execution_count": 104,
   "id": "2a94a020",
   "metadata": {},
   "outputs": [
    {
     "name": "stderr",
     "output_type": "stream",
     "text": [
      "100%|██████████| 6584/6584 [00:00<00:00, 6837.97it/s]\n"
     ]
    }
   ],
   "source": [
    "from tqdm import tqdm\n",
    "\n",
    "# Load the amenities data for San Francisco from OpenStreetMap\n",
    "df_map = pd.read_csv('data/sf_osm_amenities_2016_2024.csv')\n",
    "\n",
    "# Filter the dataframe to only include data from the snapshot date '2024-05-31'\n",
    "df_map = df_map[df_map['snapshot_date']=='2024-05-31']\n",
    "\n",
    "# Filter the dataframe to only include amenities of interest\n",
    "amenities_of_interest = ['bench', 'restaurant', 'fast_food', 'place_of_worship', 'school', 'bank', \n",
    "                         'atm', 'social_facility', 'shelter', 'university', 'college', 'police', 'cinema']\n",
    "\n",
    "df_map = df_map[df_map['amenity'].isin(amenities_of_interest)]\n",
    "\n",
    "# Create a amenity map centered at San Francisco\n",
    "m4 = folium.Map(location=[37.7749, -122.4194], zoom_start=12, tiles='CartoDB positron')\n",
    "\n",
    "# Add amenity points to the map with different colors based on amenity type\n",
    "# Iterate through each row in the dataframe and add a CircleMarker for each amenity type\n",
    "for _, row in tqdm(df_map.iterrows(), total=df_map.shape[0]):\n",
    "    color = \"\"  # Default color\n",
    "    if row['amenity'] == 'restaurant':\n",
    "        color = \"#1984c5\"\n",
    "    elif row['amenity'] == 'bench':\n",
    "        color = \"#e14b31\"\n",
    "    elif row['amenity'] == 'fast_food':\n",
    "        color = \"#2ca02c\"\n",
    "    elif row['amenity'] == 'place_of_worship':\n",
    "        color = \"#ff7f0e\"\n",
    "    elif row['amenity'] == 'school':\n",
    "        color = \"#9467bd\"\n",
    "    elif row['amenity'] == 'bank':\n",
    "        color = \"#8c564b\"\n",
    "    elif row['amenity'] == 'atm':\n",
    "        color = \"#EBCB3C\"\n",
    "    elif row['amenity'] == 'social_facility':\n",
    "        color = \"#17becf\"\n",
    "    elif row['amenity'] == 'shelter':\n",
    "        color = \"#bcbd22\"\n",
    "    elif row['amenity'] == 'university':\n",
    "        color = \"#ffbb78\"\n",
    "    elif row['amenity'] == 'college':\n",
    "        color = \"#aec7e8\"\n",
    "    elif row['amenity'] == 'police':\n",
    "        color = \"#c49c94\"\n",
    "    elif row['amenity'] == 'cinema':\n",
    "        color = \"#98df8a\"\n",
    "    folium.CircleMarker(\n",
    "        location = [row['lat'], row['lon']],\n",
    "        radius = 1.5,\n",
    "        color = color,\n",
    "        fill = True,\n",
    "        opacity = 0.5,\n",
    "    ).add_to(m4)\n",
    "\n",
    "# Add a legend to the map for the different amenity types\n",
    "legend_html = '''\n",
    "<div style=\"position: fixed;\n",
    "     bottom: 50px; left: 50px; width: 170px; height: 300px;\n",
    "     border:2px solid grey; z-index:9999; font-size:14px;\n",
    "     background-color:white; padding: 10px;\">\n",
    "     <b>Amenity Types</b><br>\n",
    "     <i style=\"background:#1984c5; width:10px; height:10px; display:inline-block;\"></i> Restaurant<br>\n",
    "     <i style=\"background:#e14b31; width:10px; height:10px; display:inline-block;\"></i> Bench<br>\n",
    "     <i style=\"background:#2ca02c; width:10px; height:10px; display:inline-block;\"></i> Fast Food<br>\n",
    "     <i style=\"background:#ff7f0e; width:10px; height:10px; display:inline-block;\"></i> Place of Worship<br>\n",
    "     <i style=\"background:#9467bd; width:10px; height:10px; display:inline-block;\"></i> School<br>\n",
    "     <i style=\"background:#8c564b; width:10px; height:10px; display:inline-block;\"></i> Bank<br>\n",
    "     <i style=\"background:#d62728; width:10px; height:10px; display:inline-block;\"></i> ATM<br>\n",
    "     <i style=\"background:#17becf; width:10px; height:10px; display:inline-block;\"></i> Social Facility<br>\n",
    "     <i style=\"background:#bcbd22; width:10px; height:10px; display:inline-block;\"></i> Shelter<br>\n",
    "     <i style=\"background:#ffbb78; width:10px; height:10px; display:inline-block;\"></i> University<br>\n",
    "     <i style=\"background:#aec7e8; width:10px; height:10px; display:inline-block;\"></i> College<br>\n",
    "     <i style=\"background:#c49c94; width:10px; height:10px; display:inline-block;\"></i> Police<br>\n",
    "     <i style=\"background:#98df8a; width:10px; height:10px; display:inline-block;\"></i> Cinema<br>\n",
    "</div>\n",
    "'''\n",
    "\n",
    "# Add the legend HTML to the map with the updated title \"Amenity Types\"\n",
    "m4.get_root().html.add_child(folium.Element(legend_html))\n",
    "\n",
    "# Save the amenity map to an HTML file\n",
    "m4.save('amenity_map_20250906.html')\n"
   ]
  },
  {
   "cell_type": "code",
   "execution_count": 102,
   "id": "e34687a4",
   "metadata": {},
   "outputs": [
    {
     "name": "stderr",
     "output_type": "stream",
     "text": [
      "100%|██████████| 1191/1191 [00:00<00:00, 8720.65it/s]\n"
     ]
    }
   ],
   "source": [
    "from tqdm import tqdm\n",
    "import folium.plugins as plugins\n",
    "\n",
    "# Load the amenities data for San Francisco from OpenStreetMap\n",
    "df_map = pd.read_csv('data/sf_osm_amenities_2016_2024.csv')\n",
    "\n",
    "# Filter the dataframe to only include data from the snapshot date '2024-05-31'\n",
    "df_map = df_map[df_map['snapshot_date']=='2024-05-31']\n",
    "\n",
    "# Filter the dataframe to only include \"bridge\" and \"highway_link\"\n",
    "df_map = df_map[df_map['feature_type'].isin(['bridge', 'highway_link'])]\n",
    "\n",
    "# Create a amenity map centered at San Francisco\n",
    "m5 = folium.Map(location=[37.7749, -122.4194], zoom_start=12, tiles='CartoDB positron')\n",
    "\n",
    "# Add structure (bridge and highway_link) points to the map with different colors and shapes based on feature type\n",
    "for _, row in tqdm(df_map.iterrows(), total=df_map.shape[0]):\n",
    "    color = \"\"  # Default color\n",
    "    if row['feature_type'] == 'bridge':\n",
    "        color = \"#1984c5\"\n",
    "        icon = \"bridge\"\n",
    "    elif row['feature_type'] == 'highway_link':\n",
    "        color = \"#e14b31\"\n",
    "        icon = \"road\"\n",
    "    folium.Marker(\n",
    "        location=[row['lat'], row['lon']],\n",
    "        icon=plugins.BeautifyIcon(color=color, icon=icon, icon_shape=\"circle\",\n",
    "                                  border_color=color),\n",
    "        opacity = 0.8,\n",
    "    ).add_to(m5)\n",
    "\n",
    "# Add a legend to the map for the different feature types\n",
    "legend_html = '''\n",
    "<div style=\"position: fixed;\n",
    "     bottom: 50px; left: 50px; width: 170px; height: 100px;\n",
    "     border:2px solid grey; z-index:9999; font-size:14px;\n",
    "     background-color:white; padding: 10px;\">\n",
    "     <b>Structure Types</b><br>\n",
    "     <i style=\"background:#1984c5; width:10px; height:10px; display:inline-block;\"></i> &nbsp;Bridge<br>\n",
    "     <i style=\"background:#e14b31; width:10px; height:10px; display:inline-block;\"></i> &nbsp;Highway Ramp<br>\n",
    "</div>\n",
    "'''\n",
    "\n",
    "# Add the legend HTML to the map with the updated title \"Feature Types\"\n",
    "m5.get_root().html.add_child(folium.Element(legend_html))\n",
    "\n",
    "# Save the structure map to an HTML file\n",
    "m5.save('structure_map_20250906.html')\n"
   ]
  },
  {
   "cell_type": "code",
   "execution_count": 99,
   "id": "df44eaa8",
   "metadata": {},
   "outputs": [],
   "source": [
    "df_temp = pd.DataFrame({\n",
    "    'feature_type': ['highway_link', 'bridge'],\n",
    "    'lat': [37.964216, 37.947189], \n",
    "    'lon': [-122.759320, -122.738724],\n",
    "})"
   ]
  },
  {
   "cell_type": "code",
   "execution_count": 100,
   "id": "e9f3689c",
   "metadata": {},
   "outputs": [
    {
     "data": {
      "text/html": [
       "<div>\n",
       "<style scoped>\n",
       "    .dataframe tbody tr th:only-of-type {\n",
       "        vertical-align: middle;\n",
       "    }\n",
       "\n",
       "    .dataframe tbody tr th {\n",
       "        vertical-align: top;\n",
       "    }\n",
       "\n",
       "    .dataframe thead th {\n",
       "        text-align: right;\n",
       "    }\n",
       "</style>\n",
       "<table border=\"1\" class=\"dataframe\">\n",
       "  <thead>\n",
       "    <tr style=\"text-align: right;\">\n",
       "      <th></th>\n",
       "      <th>feature_type</th>\n",
       "      <th>lat</th>\n",
       "      <th>lon</th>\n",
       "    </tr>\n",
       "  </thead>\n",
       "  <tbody>\n",
       "    <tr>\n",
       "      <th>0</th>\n",
       "      <td>highway_link</td>\n",
       "      <td>37.964216</td>\n",
       "      <td>-122.759320</td>\n",
       "    </tr>\n",
       "    <tr>\n",
       "      <th>1</th>\n",
       "      <td>bridge</td>\n",
       "      <td>37.947189</td>\n",
       "      <td>-122.738724</td>\n",
       "    </tr>\n",
       "  </tbody>\n",
       "</table>\n",
       "</div>"
      ],
      "text/plain": [
       "   feature_type        lat         lon\n",
       "0  highway_link  37.964216 -122.759320\n",
       "1        bridge  37.947189 -122.738724"
      ]
     },
     "execution_count": 100,
     "metadata": {},
     "output_type": "execute_result"
    }
   ],
   "source": [
    "df_temp"
   ]
  },
  {
   "cell_type": "code",
   "execution_count": 101,
   "id": "206e51cd",
   "metadata": {},
   "outputs": [
    {
     "name": "stderr",
     "output_type": "stream",
     "text": [
      "100%|██████████| 2/2 [00:00<00:00, 1243.13it/s]\n"
     ]
    }
   ],
   "source": [
    "from tqdm import tqdm\n",
    "import folium.plugins as plugins\n",
    "\n",
    "# Create a amenity map centered at San Francisco\n",
    "m6 = folium.Map(location=[37.970954, -122.702310], zoom_start=12, tiles='cartodbpositron')\n",
    "\n",
    "# Add structure (bridge and highway_link) points to the map with different colors and shapes based on feature type\n",
    "for _, row in tqdm(df_temp.iterrows(), total=df_temp.shape[0]):\n",
    "    color = \"\"  # Default color\n",
    "    if row['feature_type'] == 'bridge':\n",
    "        color = \"#1984c5\"\n",
    "        icon = \"bridge\"\n",
    "    elif row['feature_type'] == 'highway_link':\n",
    "        color = \"#e14b31\"\n",
    "        icon = \"road\"\n",
    "    folium.Marker(\n",
    "        location=[row['lat'], row['lon']],\n",
    "        icon=plugins.BeautifyIcon(color=color, icon=icon, icon_shape=\"circle\",\n",
    "                                  border_color=color, size=\"large\"),\n",
    "        opacity = 1,\n",
    "    ).add_to(m6)\n",
    "\n",
    "# Add a legend to the map for the different feature types\n",
    "legend_html = '''\n",
    "<div style=\"position: fixed;\n",
    "     bottom: 50px; left: 50px; width: 170px; height: 100px;\n",
    "     border:2px solid grey; z-index:9999; font-size:14px;\n",
    "     background-color:white; padding: 10px;\">\n",
    "     <b>Structure Types</b><br>\n",
    "     <i style=\"background:#1984c5; width:10px; height:10px; display:inline-block;\"></i> &nbsp;Bridge<br>\n",
    "     <i style=\"background:#e14b31; width:10px; height:10px; display:inline-block;\"></i> &nbsp;Highway Link<br>\n",
    "</div>\n",
    "'''\n",
    "\n",
    "# Add the legend HTML to the map with the updated title \"Feature Types\"\n",
    "m6.get_root().html.add_child(folium.Element(legend_html))\n",
    "\n",
    "# Save the structure map to an HTML file\n",
    "m6.save('structure_map_test_20250906.html')\n"
   ]
  }
 ],
 "metadata": {
  "kernelspec": {
   "display_name": "homeless_env",
   "language": "python",
   "name": "python3"
  },
  "language_info": {
   "codemirror_mode": {
    "name": "ipython",
    "version": 3
   },
   "file_extension": ".py",
   "mimetype": "text/x-python",
   "name": "python",
   "nbconvert_exporter": "python",
   "pygments_lexer": "ipython3",
   "version": "3.11.11"
  }
 },
 "nbformat": 4,
 "nbformat_minor": 5
}
